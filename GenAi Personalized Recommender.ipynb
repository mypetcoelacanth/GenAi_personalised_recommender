{
  "nbformat": 4,
  "nbformat_minor": 0,
  "metadata": {
    "colab": {
      "provenance": []
    },
    "kernelspec": {
      "name": "python3",
      "display_name": "Python 3"
    },
    "language_info": {
      "name": "python"
    }
  },
  "cells": [
    {
      "cell_type": "code",
      "execution_count": 54,
      "metadata": {
        "id": "LPJHOnBdmq37"
      },
      "outputs": [],
      "source": [
        "!pip install -U -q google-generativeai\n",
        "\n",
        "import google.generativeai as genai"
      ]
    },
    {
      "cell_type": "code",
      "source": [
        "GOOGLE_API_KEY=\"Enter_Your_GOOGLE_API\"\n",
        "genai.configure(api_key=GOOGLE_API_KEY)"
      ],
      "metadata": {
        "id": "-K3_vibmnMVr"
      },
      "execution_count": 55,
      "outputs": []
    },
    {
      "cell_type": "code",
      "source": [
        "model = genai.GenerativeModel('gemini-1.5-flash')"
      ],
      "metadata": {
        "id": "-6MBVAhpnPJz"
      },
      "execution_count": 56,
      "outputs": []
    },
    {
      "cell_type": "markdown",
      "source": [],
      "metadata": {
        "id": "esiijv3im42h"
      }
    },
    {
      "cell_type": "code",
      "source": [
        "chat = model.start_chat(history=[])\n",
        "\n",
        "def extract_entities(prompt, response):\n",
        "    entities = {}\n",
        "    return entities\n",
        "\n",
        "def extract_topics(prompt, response):\n",
        "    topics = {}\n",
        "    return topics\n",
        "\n",
        "context = {}  # Create a separate dictionary to store the conversation context\n",
        "\n",
        "choice = True\n",
        "\n",
        "print(\"Enter your query: \")\n",
        "while (choice == True):\n",
        "    prompt = input()\n",
        "\n",
        "    response = chat.send_message(prompt)\n",
        "\n",
        "    print(response.text)\n",
        "\n",
        "    # Extract entities and topics from the prompt and response\n",
        "    entities = extract_entities(prompt, response.text)\n",
        "    topics = extract_topics(prompt, response.text)\n",
        "\n",
        "    # Update the conversation context with the extracted entities and topics\n",
        "    context.update(entities)\n",
        "    context.update(topics)\n",
        "\n",
        "    answer = input(\"Do you want the session to proceed?(Yes/No): \")\n",
        "    if(answer.lower() == \"yes\"):\n",
        "      choice = True\n",
        "\n",
        "    else:\n",
        "      choice = False\n",
        "\n",
        "print(chat.history)\n",
        "print(context)"
      ],
      "metadata": {
        "colab": {
          "base_uri": "https://localhost:8080/",
          "height": 1000
        },
        "id": "j-FXcuW6B32u",
        "outputId": "f4ac8ecb-5d34-4497-8b13-fe0176773ce9"
      },
      "execution_count": 57,
      "outputs": [
        {
          "output_type": "stream",
          "name": "stdout",
          "text": [
            "Enter your query: \n",
            "Sarah wants to buy a birthday gift for her husband, David, who loves sports.\n",
            "This is a great start! To give you some specific gift ideas, I need a little more information about David and his sports interests.  Tell me:\n",
            "\n",
            "* **What sports does David follow or play?** (e.g., baseball, football, basketball, golf, hockey, soccer, etc.)\n",
            "* **What is your budget for the gift?**\n",
            "* **What kind of gift are you looking for?** (e.g., something practical, something fun, something sentimental, something to wear, something to display, etc.) \n",
            "* **Does David have any specific teams or players he loves?** \n",
            "* **Is there anything David already has or doesn't need?**\n",
            "\n",
            "Once I have this information, I can give you some personalized gift suggestions! \n",
            "\n",
            "Do you want the session to proceed?(Yes/No): yes\n",
            "david loves cycling\n",
            "That's great!  Cycling is a fantastic passion. Now, to narrow down the options, can you tell me:\n",
            "\n",
            "* **What's your budget for the gift?**  This will help me suggest items that fit within your price range.\n",
            "* **What kind of cyclist is David?**  Is he a casual rider, a serious competitor, or somewhere in between? This will help me suggest items tailored to his needs. \n",
            "* **Does David have any specific cycling needs or wants?** For example, does he need new cycling gear, a new bike accessory, or something else entirely?\n",
            "* **Is there anything he already has or wouldn't want as a gift?**\n",
            "\n",
            "With a bit more information, I can suggest the perfect cycling gift for David! \n",
            "\n",
            "Do you want the session to proceed?(Yes/No): yes\n",
            "a mountain bike under $2000\n",
            "Okay, a mountain bike under $2000 for a cycling enthusiast! That's a great gift idea!  \n",
            "\n",
            "To help me narrow down the options even further, could you tell me:\n",
            "\n",
            "* **What kind of terrain does David ride on most?** (e.g., trails, single track, rocky terrain, etc.) This will help me suggest a bike with the right suspension and geometry.\n",
            "* **What's David's riding style?** Is he an aggressive rider, a casual rider, or somewhere in between? This will help me suggest a bike with the right components and features.\n",
            "* **What's David's bike size?** (You can find this by measuring his inseam and referring to a size chart for the specific bike brands you're looking at.)\n",
            "* **Are there any specific brands or models he's interested in?**\n",
            "\n",
            "Once I have this information, I can give you some very specific recommendations for mountain bikes that would be perfect for David! \n",
            "\n",
            "Do you want the session to proceed?(Yes/No): yes\n",
            "just give me options\n",
            "You got it! Here are some great mountain bike options under $2000 that offer a good mix of performance and value:\n",
            "\n",
            "**For Trail Riding & Light Duty:**\n",
            "\n",
            "* **Specialized Rockhopper Expert:** (around $1200) Known for its solid frame, reliable components, and comfortable ride. It's a good choice for beginners or those who want a versatile bike for trails and light off-road riding.\n",
            "* **Giant Talon 2:** (around $1100)  Another excellent option for beginners and intermediate riders, offering a comfortable ride and a good blend of performance and value. It's a great all-around bike for a variety of trails.\n",
            "* **Trek Marlin 7:** (around $1300) A solid bike with a lightweight frame, smooth-shifting drivetrain, and a comfortable ride. It's a great option for riders who want a reliable and efficient bike for trail riding.\n",
            "\n",
            "**For More Aggressive Riding:**\n",
            "\n",
            "* **Santa Cruz Tallboy 3:** (around $1900) A high-performance trail bike with a lightweight frame, 120mm of suspension travel, and a responsive handling. It's a great choice for riders who want a bike that can handle a variety of trails and terrain.\n",
            "* **Ibis Ripley 4:** (around $1900)  A versatile trail bike with 120mm of suspension travel and a geometry that makes it fun to ride on both climbs and descents. It's a great choice for riders who want a bike that can handle a variety of terrain.\n",
            "* **Yeti SB130:** (around $1800)  Known for its excellent suspension and handling, the SB130 is a great bike for riders who want a capable bike for challenging trails.\n",
            "\n",
            "**Things to Consider:**\n",
            "\n",
            "* **Suspension:** Make sure the bike has the right amount of suspension travel for the type of terrain David rides.\n",
            "* **Drivetrain:** Consider the number of gears and the type of shifter for the desired riding style.\n",
            "* **Brakes:** Ensure they're hydraulic disc brakes for reliable stopping power.\n",
            "* **Wheels:** Look for strong and durable wheels, especially for aggressive riding.\n",
            "\n",
            "Remember, it's always a good idea to visit a local bike shop and test ride a few bikes before making a final decision. \n",
            "\n",
            "I hope this helps!  Happy shopping! \n",
            "\n",
            "Do you want the session to proceed?(Yes/No): no\n",
            "[parts {\n",
            "  text: \"Sarah wants to buy a birthday gift for her husband, David, who loves sports.\"\n",
            "}\n",
            "role: \"user\"\n",
            ", parts {\n",
            "  text: \"This is a great start! To give you some specific gift ideas, I need a little more information about David and his sports interests.  Tell me:\\n\\n* **What sports does David follow or play?** (e.g., baseball, football, basketball, golf, hockey, soccer, etc.)\\n* **What is your budget for the gift?**\\n* **What kind of gift are you looking for?** (e.g., something practical, something fun, something sentimental, something to wear, something to display, etc.) \\n* **Does David have any specific teams or players he loves?** \\n* **Is there anything David already has or doesn\\'t need?**\\n\\nOnce I have this information, I can give you some personalized gift suggestions! \\n\"\n",
            "}\n",
            "role: \"model\"\n",
            ", parts {\n",
            "  text: \"david loves cycling\"\n",
            "}\n",
            "role: \"user\"\n",
            ", parts {\n",
            "  text: \"That\\'s great!  Cycling is a fantastic passion. Now, to narrow down the options, can you tell me:\\n\\n* **What\\'s your budget for the gift?**  This will help me suggest items that fit within your price range.\\n* **What kind of cyclist is David?**  Is he a casual rider, a serious competitor, or somewhere in between? This will help me suggest items tailored to his needs. \\n* **Does David have any specific cycling needs or wants?** For example, does he need new cycling gear, a new bike accessory, or something else entirely?\\n* **Is there anything he already has or wouldn\\'t want as a gift?**\\n\\nWith a bit more information, I can suggest the perfect cycling gift for David! \\n\"\n",
            "}\n",
            "role: \"model\"\n",
            ", parts {\n",
            "  text: \"a mountain bike under $2000\"\n",
            "}\n",
            "role: \"user\"\n",
            ", parts {\n",
            "  text: \"Okay, a mountain bike under $2000 for a cycling enthusiast! That\\'s a great gift idea!  \\n\\nTo help me narrow down the options even further, could you tell me:\\n\\n* **What kind of terrain does David ride on most?** (e.g., trails, single track, rocky terrain, etc.) This will help me suggest a bike with the right suspension and geometry.\\n* **What\\'s David\\'s riding style?** Is he an aggressive rider, a casual rider, or somewhere in between? This will help me suggest a bike with the right components and features.\\n* **What\\'s David\\'s bike size?** (You can find this by measuring his inseam and referring to a size chart for the specific bike brands you\\'re looking at.)\\n* **Are there any specific brands or models he\\'s interested in?**\\n\\nOnce I have this information, I can give you some very specific recommendations for mountain bikes that would be perfect for David! \\n\"\n",
            "}\n",
            "role: \"model\"\n",
            ", parts {\n",
            "  text: \"just give me options\"\n",
            "}\n",
            "role: \"user\"\n",
            ", parts {\n",
            "  text: \"You got it! Here are some great mountain bike options under $2000 that offer a good mix of performance and value:\\n\\n**For Trail Riding & Light Duty:**\\n\\n* **Specialized Rockhopper Expert:** (around $1200) Known for its solid frame, reliable components, and comfortable ride. It\\'s a good choice for beginners or those who want a versatile bike for trails and light off-road riding.\\n* **Giant Talon 2:** (around $1100)  Another excellent option for beginners and intermediate riders, offering a comfortable ride and a good blend of performance and value. It\\'s a great all-around bike for a variety of trails.\\n* **Trek Marlin 7:** (around $1300) A solid bike with a lightweight frame, smooth-shifting drivetrain, and a comfortable ride. It\\'s a great option for riders who want a reliable and efficient bike for trail riding.\\n\\n**For More Aggressive Riding:**\\n\\n* **Santa Cruz Tallboy 3:** (around $1900) A high-performance trail bike with a lightweight frame, 120mm of suspension travel, and a responsive handling. It\\'s a great choice for riders who want a bike that can handle a variety of trails and terrain.\\n* **Ibis Ripley 4:** (around $1900)  A versatile trail bike with 120mm of suspension travel and a geometry that makes it fun to ride on both climbs and descents. It\\'s a great choice for riders who want a bike that can handle a variety of terrain.\\n* **Yeti SB130:** (around $1800)  Known for its excellent suspension and handling, the SB130 is a great bike for riders who want a capable bike for challenging trails.\\n\\n**Things to Consider:**\\n\\n* **Suspension:** Make sure the bike has the right amount of suspension travel for the type of terrain David rides.\\n* **Drivetrain:** Consider the number of gears and the type of shifter for the desired riding style.\\n* **Brakes:** Ensure they\\'re hydraulic disc brakes for reliable stopping power.\\n* **Wheels:** Look for strong and durable wheels, especially for aggressive riding.\\n\\nRemember, it\\'s always a good idea to visit a local bike shop and test ride a few bikes before making a final decision. \\n\\nI hope this helps!  Happy shopping! \\n\"\n",
            "}\n",
            "role: \"model\"\n",
            "]\n",
            "{}\n"
          ]
        }
      ]
    }
  ]
}
